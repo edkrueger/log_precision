{
 "cells": [
  {
   "cell_type": "markdown",
   "metadata": {},
   "source": [
    "# Computing the Log of Really Small Numbers in Python\n",
    "## *Edward Krueger*"
   ]
  },
  {
   "cell_type": "markdown",
   "metadata": {},
   "source": [
    "A geophysicist wanted to write a program that involves taking the log of a really small number: https://www.linkedin.com/groups/25827/25827-6380828647888130050\n",
    "\n",
    "I want to see how close to zero a number can get before I can't take the log of it, so I take a sequence approaching 0 and keep trying to take its log until I can't.\n",
    "\n",
    "I was curious if certain packages could take logs of smaller numbers, so I tested ```math```, ```numpy``` and ```decimal```.\n",
    "\n",
    "TL;DR: ```math``` and ```numpy``` fail for numbers smaller than $10^{-324}$. ```decimal``` fails only for numbers smaller than $10^{-1000027}$. So use the ```decimal``` for taking logs of really small numbers."
   ]
  },
  {
   "cell_type": "markdown",
   "metadata": {},
   "source": [
    "# Setup"
   ]
  },
  {
   "cell_type": "markdown",
   "metadata": {},
   "source": [
    "One consideration is that each package behaves differently when it tries to take the log of 0. ```math``` throws an error, ```numpy``` gives a warning and ```decimal``` simply returns ```Decimal('-Infinity')```. I use ```warnings``` tot treat warnings as errors in order to find when ```numpy``` fail. To provide a stopping point for ```decimal```, I check then the value becomes ```Decimal('-Infinity')```."
   ]
  },
  {
   "cell_type": "code",
   "execution_count": 1,
   "metadata": {},
   "outputs": [],
   "source": [
    "# import math and nummpy\n",
    "import math\n",
    "import numpy as np\n",
    "\n",
    "# numpy throws a warning for division by zero\n",
    "# we need to catch it as an error\n",
    "import warnings\n",
    "warnings.filterwarnings(\"error\")\n",
    "\n",
    "# import the decimal package\n",
    "# note that the Decimal() class' method .ln() does not throw an error or warning for log(0),\n",
    "# instead it returns Decimal('-Infinity')\n",
    "from decimal import *"
   ]
  },
  {
   "cell_type": "markdown",
   "metadata": {},
   "source": [
    "## Testing the ```math``` Package"
   ]
  },
  {
   "cell_type": "code",
   "execution_count": 2,
   "metadata": {},
   "outputs": [
    {
     "name": "stdout",
     "output_type": "stream",
     "text": [
      "The math package's log function fails for inputs values smaller than 10 ^ -324.\n"
     ]
    }
   ],
   "source": [
    "# see what power causes math.log to break\n",
    "\n",
    "# initialize\n",
    "X = 10\n",
    "power = 0\n",
    "no_error = True\n",
    "\n",
    "# decrease the magnitude of x until we encounter an error\n",
    "while no_error:\n",
    "    \n",
    "    # decrease the value of x\n",
    "    x = X ** power\n",
    "    \n",
    "    # try to take the log\n",
    "    try:\n",
    "        y = math.log(x)\n",
    "        \n",
    "    # break the loop and print the power if we can't take the log\n",
    "    except:\n",
    "        no_error = False\n",
    "        print(\"The math package's log function fails for inputs values smaller than 10 ^ %s.\" %str(power))\n",
    "    \n",
    "    # decrease the power\n",
    "    power -= 1"
   ]
  },
  {
   "cell_type": "markdown",
   "metadata": {},
   "source": [
    "## Testing the ```numpy``` package"
   ]
  },
  {
   "cell_type": "code",
   "execution_count": 3,
   "metadata": {},
   "outputs": [
    {
     "name": "stdout",
     "output_type": "stream",
     "text": [
      "The numpy package's log function fails for inputs values smaller than 10 ^ -324.\n"
     ]
    }
   ],
   "source": [
    "# see what power causes np.log to break\n",
    "\n",
    "# initialize\n",
    "X = 10\n",
    "power = 0\n",
    "no_error = True\n",
    "\n",
    "# decrease the magnitude of x until we encounter an error\n",
    "while no_error:\n",
    "    \n",
    "    # decrease the value of x\n",
    "    x = X ** power\n",
    "    \n",
    "    # try to take the log\n",
    "    try:\n",
    "        y = np.log(x)\n",
    "        \n",
    "    # break the loop and print the power if we can't take the log\n",
    "    except:\n",
    "        no_error = False\n",
    "        print(\"The numpy package's log function fails for inputs values smaller than 10 ^ %s.\" %str(power))\n",
    "    \n",
    "    # decrease the power\n",
    "    power -= 1"
   ]
  },
  {
   "cell_type": "markdown",
   "metadata": {},
   "source": [
    "## Testing the ```decimal``` Package"
   ]
  },
  {
   "cell_type": "code",
   "execution_count": 4,
   "metadata": {},
   "outputs": [
    {
     "name": "stdout",
     "output_type": "stream",
     "text": [
      "The Decimal() class' .ln() method fails for inputs values smaller than 10 ^ -1000027.\n"
     ]
    }
   ],
   "source": [
    "# can we increase the precsion with the decimal class?\n",
    "# see what power causes Decimal().ln() to break\n",
    "\n",
    "# initialize\n",
    "X = Decimal(10)\n",
    "power = 0\n",
    "no_error = True\n",
    "\n",
    "# decrease the magnitude of x until we encounter an error\n",
    "while no_error:\n",
    "    \n",
    "    # decrease the value of x\n",
    "    x = X ** power\n",
    "    \n",
    "    # take the log\n",
    "    y = x.ln()\n",
    "    \n",
    "    # break the loop and print the power if we can't take the log\n",
    "    if y == Decimal(\"-Infinity\"):\n",
    "        no_error = False\n",
    "        print(\"The Decimal() class' .ln() method fails for inputs values smaller than 10 ^ %s.\" %str(power))\n",
    "        \n",
    "    # decrease the power\n",
    "    power -= 1"
   ]
  },
  {
   "cell_type": "markdown",
   "metadata": {},
   "source": [
    "## Conclusion"
   ]
  },
  {
   "cell_type": "markdown",
   "metadata": {},
   "source": [
    "From the ```decimal``` package, use the ```Decimal()``` class and its ```ln()``` method if you need to take the log of a number smaller than $10^{-324}$."
   ]
  }
 ],
 "metadata": {
  "kernelspec": {
   "display_name": "Python 3",
   "language": "python",
   "name": "python3"
  },
  "language_info": {
   "codemirror_mode": {
    "name": "ipython",
    "version": 3
   },
   "file_extension": ".py",
   "mimetype": "text/x-python",
   "name": "python",
   "nbconvert_exporter": "python",
   "pygments_lexer": "ipython3",
   "version": "3.6.4"
  }
 },
 "nbformat": 4,
 "nbformat_minor": 2
}
