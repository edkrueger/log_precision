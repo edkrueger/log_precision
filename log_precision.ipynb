{
 "cells": [
  {
   "cell_type": "code",
   "execution_count": 27,
   "metadata": {},
   "outputs": [],
   "source": [
    "# import math and nummpy\n",
    "import math\n",
    "import numpy as np\n",
    "\n",
    "# numpy throws a warning for division by zero\n",
    "# we need to catch it as an error\n",
    "import warnings\n",
    "warnings.filterwarnings(\"error\")"
   ]
  },
  {
   "cell_type": "code",
   "execution_count": 39,
   "metadata": {},
   "outputs": [
    {
     "name": "stdout",
     "output_type": "stream",
     "text": [
      "The math package's log function fails for inputs values smaller than 10 ^ -324.\n"
     ]
    }
   ],
   "source": [
    "# see what power causes math.log to break\n",
    "\n",
    "# initialize\n",
    "X = 10\n",
    "power = 0\n",
    "no_error = True\n",
    "\n",
    "# decrease the magnitude of x until we encounter an error\n",
    "while no_error:\n",
    "    \n",
    "    x = X ** power\n",
    "    \n",
    "    # try to take the log\n",
    "    try:\n",
    "        y = math.log(x)\n",
    "        \n",
    "    # break the loop and print the power if we can't take the power\n",
    "    except:\n",
    "        no_error = False\n",
    "        print(\"The math package's log function fails for inputs values smaller than 10 ^ %s.\" %str(power))\n",
    "    \n",
    "    # decrease the power\n",
    "    power -= 1"
   ]
  },
  {
   "cell_type": "code",
   "execution_count": null,
   "metadata": {},
   "outputs": [],
   "source": [
    "# see what power causes math.log to break\n",
    "\n",
    "# initialize\n",
    "X = 10\n",
    "power = 0\n",
    "no_error = True\n",
    "\n",
    "# decrease the magnitude of x until we encounter an error\n",
    "while no_error:\n",
    "    \n",
    "    x = X ** power\n",
    "    \n",
    "    # try to take the log\n",
    "    try:\n",
    "        y = math.log(x)\n",
    "        \n",
    "    # break the loop and print the power if we can't take the power\n",
    "    except:\n",
    "        no_error = False\n",
    "        print(\"The math package's log function fails for inputs values smaller than 10 ^ %s.\" %str(power))\n",
    "    \n",
    "    # decrease the power\n",
    "    power -= 1"
   ]
  },
  {
   "cell_type": "code",
   "execution_count": 41,
   "metadata": {},
   "outputs": [
    {
     "name": "stdout",
     "output_type": "stream",
     "text": [
      "The numpy package's log function fails for inputs values smaller than 10 ^ -324.\n"
     ]
    }
   ],
   "source": [
    "# see what power causes np.log to break\n",
    "\n",
    "# initialize\n",
    "X = 10\n",
    "power = 0\n",
    "no_error = True\n",
    "\n",
    "# decrease the magnitude of x until we encounter an error\n",
    "while no_error:\n",
    "    \n",
    "    x = X ** power\n",
    "    \n",
    "    # try to take the log\n",
    "    try:\n",
    "        y = np.log(x)\n",
    "        \n",
    "    # break the loop and print the power if we can't take the power\n",
    "    except:\n",
    "        no_error = False\n",
    "        print(\"The numpy package's log function fails for inputs values smaller than 10 ^ %s.\" %str(power))\n",
    "    \n",
    "    # decrease the power\n",
    "    power -= 1"
   ]
  },
  {
   "cell_type": "code",
   "execution_count": null,
   "metadata": {},
   "outputs": [],
   "source": []
  }
 ],
 "metadata": {
  "kernelspec": {
   "display_name": "Python 3",
   "language": "python",
   "name": "python3"
  },
  "language_info": {
   "codemirror_mode": {
    "name": "ipython",
    "version": 3
   },
   "file_extension": ".py",
   "mimetype": "text/x-python",
   "name": "python",
   "nbconvert_exporter": "python",
   "pygments_lexer": "ipython3",
   "version": "3.6.4"
  }
 },
 "nbformat": 4,
 "nbformat_minor": 2
}
